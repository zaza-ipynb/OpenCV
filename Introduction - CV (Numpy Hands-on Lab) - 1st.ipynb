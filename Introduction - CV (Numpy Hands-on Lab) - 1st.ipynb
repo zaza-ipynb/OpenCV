{
 "cells": [
  {
   "cell_type": "markdown",
   "metadata": {
    "colab_type": "text",
    "id": "WL5Ld4n6QUEx"
   },
   "source": [
    "# Python NumPy Pre-Exercise 2020\n",
    "Complete the following tasks according to the expected ouputs\n",
    "And Follow along the instruction and do it at your own pace in order to understand it better!"
   ]
  },
  {
   "cell_type": "markdown",
   "metadata": {
    "colab_type": "text",
    "id": "2ydhqlaE9I9G"
   },
   "source": [
    "---\n",
    "### 1. \n",
    "**Write your Student ID and Name as string, then print the last four digit of your ID**\n",
    "    <pre>`(2 lines ★☆☆)`"
   ]
  },
  {
   "cell_type": "code",
   "execution_count": 1,
   "metadata": {
    "colab": {},
    "colab_type": "code",
    "id": "Dp267Eqk9I9M"
   },
   "outputs": [
    {
     "name": "stdout",
     "output_type": "stream",
     "text": [
      "ID           : 1301174682\n",
      "Name         : Muhammad Ihza Mahendra\n",
      "last 4 digit : 4682\n"
     ]
    }
   ],
   "source": [
    "ID = '1301174682'\n",
    "name = 'Muhammad Ihza Mahendra'\n",
    "\n",
    "print('ID           :', ID)\n",
    "print('Name         :', name)\n",
    "print('last 4 digit :', ID[-4:])"
   ]
  },
  {
   "cell_type": "markdown",
   "metadata": {
    "colab_type": "text",
    "id": "_ibJWQLs9I9Y"
   },
   "source": [
    "**Expected Output**:<pre>\n",
    "<i>(assumed ID='1234567890' and name='abcdef')</i>\n",
    "\n",
    "ID           : 1234567890\n",
    "Name         : abcdef\n",
    "last 4 digit : 7890"
   ]
  },
  {
   "cell_type": "markdown",
   "metadata": {
    "colab_type": "text",
    "id": "eShzc2p79I9c"
   },
   "source": [
    "---\n",
    "### 2. \n",
    "**Import the numpy package under the name `np`, then print its version**\n",
    "<pre>(2 lines ★☆☆) "
   ]
  },
  {
   "cell_type": "code",
   "execution_count": 2,
   "metadata": {
    "colab": {},
    "colab_type": "code",
    "id": "-_jNtPEQ9I9e"
   },
   "outputs": [
    {
     "data": {
      "text/plain": [
       "'1.16.4'"
      ]
     },
     "execution_count": 2,
     "metadata": {},
     "output_type": "execute_result"
    }
   ],
   "source": [
    "import numpy as np\n",
    "np.__version__"
   ]
  },
  {
   "cell_type": "markdown",
   "metadata": {
    "colab_type": "text",
    "id": "yoyY8E0T9I9i"
   },
   "source": [
    "**Expected Output**:<pre>\n",
    "'1.1x.x'"
   ]
  },
  {
   "cell_type": "markdown",
   "metadata": {
    "colab_type": "text",
    "id": "dNSrRPv49I9l"
   },
   "source": [
    "---\n",
    "### 3. \n",
    "**Create a null (all-zero) matrix of size $4\\ \\times\\ 5$**\n",
    "<pre>(1 line ★☆☆)"
   ]
  },
  {
   "cell_type": "code",
   "execution_count": 3,
   "metadata": {
    "colab": {},
    "colab_type": "code",
    "id": "dyxVVA0u9I9m"
   },
   "outputs": [
    {
     "name": "stdout",
     "output_type": "stream",
     "text": [
      "[[0. 0. 0. 0. 0.]\n",
      " [0. 0. 0. 0. 0.]\n",
      " [0. 0. 0. 0. 0.]\n",
      " [0. 0. 0. 0. 0.]]\n"
     ]
    }
   ],
   "source": [
    "A = np.zeros(shape=(4,5))\n",
    "print(A)"
   ]
  },
  {
   "cell_type": "markdown",
   "metadata": {
    "colab_type": "text",
    "id": "SLxDVNDZ9I9v"
   },
   "source": [
    "**Expected Output**:<pre>\n",
    "[[0. 0. 0. 0. 0.]\n",
    " [0. 0. 0. 0. 0.]\n",
    " [0. 0. 0. 0. 0.]\n",
    " [0. 0. 0. 0. 0.]]\n"
   ]
  },
  {
   "cell_type": "markdown",
   "metadata": {
    "colab_type": "text",
    "id": "_h5C65_K9I9w"
   },
   "source": [
    "---\n",
    "### 4. \n",
    "**Set the third row values of matrix A to be `all 1`**\n",
    "<pre>(2 lines ★☆☆)"
   ]
  },
  {
   "cell_type": "code",
   "execution_count": 4,
   "metadata": {
    "colab": {},
    "colab_type": "code",
    "id": "1SSIJ3gY9I9x",
    "scrolled": false
   },
   "outputs": [
    {
     "name": "stdout",
     "output_type": "stream",
     "text": [
      "[[0. 0. 0. 0. 0.]\n",
      " [0. 0. 0. 0. 0.]\n",
      " [1. 1. 1. 1. 1.]\n",
      " [0. 0. 0. 0. 0.]]\n"
     ]
    }
   ],
   "source": [
    "A[2] = [1,1,1,1,1]\n",
    "print(A)"
   ]
  },
  {
   "cell_type": "markdown",
   "metadata": {
    "colab_type": "text",
    "id": "JC4vcL_69I93"
   },
   "source": [
    "**Expected Output**:<pre>\n",
    "[[0. 0. 0. 0. 0.]\n",
    " [0. 0. 0. 0. 0.]\n",
    " [1. 1. 1. 1. 1.]\n",
    " [0. 0. 0. 0. 0.]]"
   ]
  },
  {
   "cell_type": "markdown",
   "metadata": {
    "colab_type": "text",
    "id": "SuQXb6S69I95"
   },
   "source": [
    "---\n",
    "### 5. \n",
    "**Create a random matrix with normal distribution of size $3\\ \\times\\ 4$, using seed value = `123`**\n",
    "<pre>(2 lines ★☆☆)"
   ]
  },
  {
   "cell_type": "code",
   "execution_count": 5,
   "metadata": {
    "colab": {},
    "colab_type": "code",
    "id": "g2jbvhLH9I97",
    "scrolled": false
   },
   "outputs": [
    {
     "name": "stdout",
     "output_type": "stream",
     "text": [
      "[[-1.0856306   0.99734545  0.2829785  -1.50629471]\n",
      " [-0.57860025  1.65143654 -2.42667924 -0.42891263]\n",
      " [ 1.26593626 -0.8667404  -0.67888615 -0.09470897]]\n"
     ]
    }
   ],
   "source": [
    "np.random.seed(123)\n",
    "B = np.random.normal(size=(3,4))\n",
    "print(B)"
   ]
  },
  {
   "cell_type": "markdown",
   "metadata": {
    "colab_type": "text",
    "id": "cwFEGWx99I9_"
   },
   "source": [
    "**Expected Output**:<pre>\n",
    "[[-1.0856306   0.99734545  0.2829785  -1.50629471]\n",
    " [-0.57860025  1.65143654 -2.42667924 -0.42891263]\n",
    " [ 1.26593626 -0.8667404  -0.67888615 -0.09470897]]"
   ]
  },
  {
   "cell_type": "markdown",
   "metadata": {
    "colab_type": "text",
    "id": "3EnQDJO-9I-B"
   },
   "source": [
    "---\n",
    "### 6. \n",
    "**print the size of matrix B, then print matrix B with only `2 significant digits`**\n",
    "<pre>(2 lines ★☆☆)"
   ]
  },
  {
   "cell_type": "code",
   "execution_count": 6,
   "metadata": {
    "colab": {},
    "colab_type": "code",
    "id": "qqeQmEh99I-B",
    "scrolled": false
   },
   "outputs": [
    {
     "name": "stdout",
     "output_type": "stream",
     "text": [
      "size B = (3, 4)\n",
      "[[-1.09  1.    0.28 -1.51]\n",
      " [-0.58  1.65 -2.43 -0.43]\n",
      " [ 1.27 -0.87 -0.68 -0.09]]\n"
     ]
    }
   ],
   "source": [
    "np.set_printoptions(precision=2)\n",
    "print('size B =', B.shape)\n",
    "print(B)"
   ]
  },
  {
   "cell_type": "markdown",
   "metadata": {
    "colab_type": "text",
    "id": "clpYSuIf9I-H"
   },
   "source": [
    "**Expected Output**:<pre>\n",
    "size B = (3, 4)\n",
    "[[-1.09  1.    0.28 -1.51]\n",
    " [-0.58  1.65 -2.43 -0.43]\n",
    " [ 1.27 -0.87 -0.68 -0.09]]\n"
   ]
  },
  {
   "cell_type": "markdown",
   "metadata": {
    "colab_type": "text",
    "id": "OadNMT4v9I-J"
   },
   "source": [
    "---\n",
    "### 7\n",
    "**create a vector with values raging from `15 to 35`**\n",
    "<pre>(1 line ★☆☆)"
   ]
  },
  {
   "cell_type": "code",
   "execution_count": 7,
   "metadata": {
    "colab": {},
    "colab_type": "code",
    "id": "39VQJzYQ9I-M"
   },
   "outputs": [
    {
     "name": "stdout",
     "output_type": "stream",
     "text": [
      "[15 16 17 18 19 20 21 22 23 24 25 26 27 28 29 30 31 32 33 34 35]\n"
     ]
    }
   ],
   "source": [
    "C = np.array(range(15,36))\n",
    "print(C)"
   ]
  },
  {
   "cell_type": "markdown",
   "metadata": {
    "colab_type": "text",
    "id": "uH4dI3Ct9I-Q"
   },
   "source": [
    "**Expected Output**:\n",
    "<pre>[15 16 17 18 19 20 21 22 23 24 25 26 27 28 29 30 31 32 33 34 35]"
   ]
  },
  {
   "cell_type": "markdown",
   "metadata": {
    "colab_type": "text",
    "id": "fBt0STSy9I-S"
   },
   "source": [
    "---\n",
    "### 8.  \n",
    "**Reverse vector C (first element becomes last)**<pre> (1 line ★☆☆) "
   ]
  },
  {
   "cell_type": "code",
   "execution_count": 8,
   "metadata": {
    "colab": {},
    "colab_type": "code",
    "id": "WCzx2F7j9I-T",
    "scrolled": true
   },
   "outputs": [
    {
     "name": "stdout",
     "output_type": "stream",
     "text": [
      "[15 16 17 18 19 20 21 22 23 24 25 26 27 28 29 30 31 32 33 34 35]\n",
      "[35 34 33 32 31 30 29 28 27 26 25 24 23 22 21 20 19 18 17 16 15]\n"
     ]
    }
   ],
   "source": [
    "D = C[::-1]\n",
    "print(C)\n",
    "print(D)"
   ]
  },
  {
   "cell_type": "markdown",
   "metadata": {
    "colab_type": "text",
    "id": "L9tHsd9P9I-W"
   },
   "source": [
    "**Expected Output**:<pre>\n",
    "[15 16 17 18 19 20 21 22 23 24 25 26 27 28 29 30 31 32 33 34 35]\n",
    "[35 34 33 32 31 30 29 28 27 26 25 24 23 22 21 20 19 18 17 16 15]\n",
    "\n"
   ]
  },
  {
   "cell_type": "markdown",
   "metadata": {
    "colab_type": "text",
    "id": "aBApY4rY9I-Y"
   },
   "source": [
    "---\n",
    "### 9. \n",
    "**Create a $4\\ \\times\\ 3$ matrix with values ranging from 0 to 11**<pre> (1 line ★☆☆) \n"
   ]
  },
  {
   "cell_type": "code",
   "execution_count": 9,
   "metadata": {
    "colab": {},
    "colab_type": "code",
    "id": "qbkMzmCz9I-Z"
   },
   "outputs": [
    {
     "name": "stdout",
     "output_type": "stream",
     "text": [
      "[[ 0  1  2]\n",
      " [ 3  4  5]\n",
      " [ 6  7  8]\n",
      " [ 9 10 11]]\n"
     ]
    }
   ],
   "source": [
    "E = np.arange(0, 12).reshape(4,3)\n",
    "print(E)"
   ]
  },
  {
   "cell_type": "markdown",
   "metadata": {
    "colab_type": "text",
    "id": "dfzxf3in9I-e"
   },
   "source": [
    "**Expected Output**:<pre>\n",
    "[[ 0  1  2]\n",
    " [ 3  4  5]\n",
    " [ 6  7  8]\n",
    " [ 9 10 11]]"
   ]
  },
  {
   "cell_type": "markdown",
   "metadata": {
    "colab_type": "text",
    "id": "CL6Oxq1Q9I-g"
   },
   "source": [
    "---\n",
    "### 10. \n",
    "**Find the indices of non-zero elements from the given matrix**<pre> (1 line ★☆☆) "
   ]
  },
  {
   "cell_type": "code",
   "execution_count": 10,
   "metadata": {
    "colab": {},
    "colab_type": "code",
    "id": "ldX8L0Lj9I-j"
   },
   "outputs": [
    {
     "name": "stdout",
     "output_type": "stream",
     "text": [
      "[0 1 4 7]\n"
     ]
    }
   ],
   "source": [
    "F = [1,2,0,0,4,0,0,7]\n",
    "idF = np.nonzero(F)\n",
    "print(idF[0])"
   ]
  },
  {
   "cell_type": "markdown",
   "metadata": {
    "colab_type": "text",
    "id": "k_j7liAA9I-p"
   },
   "source": [
    "**Expected Output**:<pre>[0 1 4 7]"
   ]
  },
  {
   "cell_type": "markdown",
   "metadata": {
    "colab_type": "text",
    "id": "X4MrWIXH9I-p"
   },
   "source": [
    "---\n",
    "### 11.\n",
    "**Create a $4\\ \\times\\ 4$ identity matrix**<pre> (1 line ★☆☆) "
   ]
  },
  {
   "cell_type": "code",
   "execution_count": 11,
   "metadata": {
    "colab": {},
    "colab_type": "code",
    "id": "UIbhwrMm9I-r"
   },
   "outputs": [
    {
     "name": "stdout",
     "output_type": "stream",
     "text": [
      "[[1. 0. 0. 0.]\n",
      " [0. 1. 0. 0.]\n",
      " [0. 0. 1. 0.]\n",
      " [0. 0. 0. 1.]]\n"
     ]
    }
   ],
   "source": [
    "G = np.identity(4)\n",
    "print(G)"
   ]
  },
  {
   "cell_type": "markdown",
   "metadata": {
    "colab_type": "text",
    "id": "WmK-kDpm9I-x"
   },
   "source": [
    "**Expected Output**:<pre>[[1. 0. 0. 0.]\n",
    " [0. 1. 0. 0.]\n",
    " [0. 0. 1. 0.]\n",
    " [0. 0. 0. 1.]]"
   ]
  },
  {
   "cell_type": "markdown",
   "metadata": {
    "colab_type": "text",
    "id": "aR6Vrbqb9I-y"
   },
   "source": [
    "---\n",
    "### 12. \n",
    "**Create a $3\\ \\times\\ 2\\ \\times\\ 3$ array of random values with uniform distribution and seed value = 123**<pre> (2 lines ★☆☆) "
   ]
  },
  {
   "cell_type": "code",
   "execution_count": 12,
   "metadata": {
    "colab": {},
    "colab_type": "code",
    "id": "1KVZ2z6X9I-0"
   },
   "outputs": [
    {
     "name": "stdout",
     "output_type": "stream",
     "text": [
      "[[[0.7  0.29 0.23]\n",
      "  [0.55 0.72 0.42]]\n",
      "\n",
      " [[0.98 0.68 0.48]\n",
      "  [0.39 0.34 0.73]]\n",
      "\n",
      " [[0.44 0.06 0.4 ]\n",
      "  [0.74 0.18 0.18]]]\n"
     ]
    }
   ],
   "source": [
    "np.random.seed(123)\n",
    "H = np.random.uniform(size=(3,2,3))\n",
    "print(H)"
   ]
  },
  {
   "cell_type": "markdown",
   "metadata": {
    "colab_type": "text",
    "id": "kROYkKUc9I-2"
   },
   "source": [
    "**Expected Output**:\n",
    "<pre>\n",
    "[[[0.7  0.29 0.23]\n",
    "  [0.55 0.72 0.42]]\n",
    "\n",
    " [[0.98 0.68 0.48]\n",
    "  [0.39 0.34 0.73]]\n",
    "\n",
    " [[0.44 0.06 0.4 ]\n",
    "  [0.74 0.18 0.18]]]"
   ]
  },
  {
   "cell_type": "markdown",
   "metadata": {
    "colab_type": "text",
    "id": "KmeUNhHa9I-5"
   },
   "source": [
    "---\n",
    "### 13.\n",
    "**Find the minimum and maximum values of matrix (H)**<pre> (2 lines ★☆☆) "
   ]
  },
  {
   "cell_type": "code",
   "execution_count": 13,
   "metadata": {
    "colab": {},
    "colab_type": "code",
    "id": "Tgn_-Xna9I-7"
   },
   "outputs": [
    {
     "name": "stdout",
     "output_type": "stream",
     "text": [
      "0.05967789660956835 0.9807641983846155\n"
     ]
    }
   ],
   "source": [
    "Hmin = H.min()\n",
    "Hmax = H.max()\n",
    "print(Hmin, Hmax)"
   ]
  },
  {
   "cell_type": "markdown",
   "metadata": {
    "colab_type": "text",
    "id": "Rnvg8lmv9I--"
   },
   "source": [
    "**Expected Output**:<pre>0.05967789660956835 0.9807641983846155\n"
   ]
  },
  {
   "cell_type": "markdown",
   "metadata": {
    "colab_type": "text",
    "id": "jNcIzLZ89I-_"
   },
   "source": [
    "---\n",
    "### 14. \n",
    "**Create a random vector of size 50 and find the mean value**<pre> (2 lines ★☆☆) "
   ]
  },
  {
   "cell_type": "code",
   "execution_count": 14,
   "metadata": {
    "colab": {},
    "colab_type": "code",
    "id": "_DIr2eMP9I_A"
   },
   "outputs": [
    {
     "name": "stdout",
     "output_type": "stream",
     "text": [
      "0.5018578670875471\n"
     ]
    }
   ],
   "source": [
    "np.random.seed(123)\n",
    "I = np.random.random(50)\n",
    "mI = np.mean(I)\n",
    "print(mI)"
   ]
  },
  {
   "cell_type": "markdown",
   "metadata": {
    "colab_type": "text",
    "id": "baixpZMo9I_E"
   },
   "source": [
    "**Expected Output**:<pre>0.5018578670875471\n",
    "\n"
   ]
  },
  {
   "cell_type": "markdown",
   "metadata": {
    "colab_type": "text",
    "id": "cpzLj18J9I_F"
   },
   "source": [
    "---\n",
    "### 15. \n",
    "**Create a $5 \\times 5 $ array with all values = 1** <pre>(1 line ★☆☆) "
   ]
  },
  {
   "cell_type": "code",
   "execution_count": 15,
   "metadata": {
    "colab": {},
    "colab_type": "code",
    "id": "5r535QP09I_G"
   },
   "outputs": [
    {
     "name": "stdout",
     "output_type": "stream",
     "text": [
      "[[1. 1. 1. 1. 1.]\n",
      " [1. 1. 1. 1. 1.]\n",
      " [1. 1. 1. 1. 1.]\n",
      " [1. 1. 1. 1. 1.]\n",
      " [1. 1. 1. 1. 1.]]\n"
     ]
    }
   ],
   "source": [
    "J = np.full((5,5),1,dtype=float)\n",
    "print(J)"
   ]
  },
  {
   "cell_type": "markdown",
   "metadata": {
    "colab_type": "text",
    "id": "vOH1AeM29I_J"
   },
   "source": [
    "**Expected Output**:<pre>[[1. 1. 1. 1. 1.]\n",
    " [1. 1. 1. 1. 1.]\n",
    " [1. 1. 1. 1. 1.]\n",
    " [1. 1. 1. 1. 1.]\n",
    " [1. 1. 1. 1. 1.]]"
   ]
  },
  {
   "cell_type": "markdown",
   "metadata": {
    "colab_type": "text",
    "id": "7iPfNNdd9I_J"
   },
   "source": [
    "---\n",
    "### 16. \n",
    "**Set matrix J so that the value in `3rd to 4th` row, from `2nd to 4th` column, are all 0** <pre>(1 line ★☆☆) "
   ]
  },
  {
   "cell_type": "code",
   "execution_count": 16,
   "metadata": {
    "colab": {},
    "colab_type": "code",
    "id": "BCRdACqD9I_K"
   },
   "outputs": [
    {
     "name": "stdout",
     "output_type": "stream",
     "text": [
      "[[1. 1. 1. 1. 1.]\n",
      " [1. 1. 1. 1. 1.]\n",
      " [1. 0. 0. 0. 1.]\n",
      " [1. 0. 0. 0. 1.]\n",
      " [1. 1. 1. 1. 1.]]\n"
     ]
    }
   ],
   "source": [
    "J[[[2], [3]], [1, 2, 3]] = 0 #Broadcast method\n",
    "print(J)"
   ]
  },
  {
   "cell_type": "markdown",
   "metadata": {
    "colab_type": "text",
    "id": "4Aww-etZ9I_N"
   },
   "source": [
    "**Expected Output**:<pre>\n",
    "[[1. 1. 1. 1. 1.]\n",
    " [1. 1. 1. 1. 1.]\n",
    " [1. 0. 0. 0. 1.]\n",
    " [1. 0. 0. 0. 1.]\n",
    " [1. 1. 1. 1. 1.]]"
   ]
  },
  {
   "cell_type": "markdown",
   "metadata": {
    "colab_type": "text",
    "id": "n7IIUWtk9I_O"
   },
   "source": [
    "---\n",
    "### 17. \n",
    "**Create a $4\\ \\times\\ 4$ Random Integer matrix in range `[0..9]`, then add a zero padding border (filled with 0's) around it**<pre> (2 lines ★★☆) "
   ]
  },
  {
   "cell_type": "code",
   "execution_count": 23,
   "metadata": {
    "colab": {},
    "colab_type": "code",
    "id": "Crn8A7hm9I_P"
   },
   "outputs": [
    {
     "name": "stdout",
     "output_type": "stream",
     "text": [
      "[[0 0 0 0 0 0]\n",
      " [0 6 1 2 3 0]\n",
      " [0 3 0 6 1 0]\n",
      " [0 4 5 9 2 0]\n",
      " [0 6 0 5 8 0]\n",
      " [0 0 0 0 0 0]]\n"
     ]
    },
    {
     "name": "stderr",
     "output_type": "stream",
     "text": [
      "C:\\Users\\ThinkPad\\Anaconda3\\lib\\site-packages\\ipykernel_launcher.py:2: DeprecationWarning: This function is deprecated. Please call randint(0, 9 + 1) instead\n",
      "  \n"
     ]
    }
   ],
   "source": [
    "np.random.seed(12)\n",
    "K = np.random.random_integers(0, 9, (4, 4))\n",
    "K = np.pad(K, 1, mode='constant')\n",
    "print(K)"
   ]
  },
  {
   "cell_type": "markdown",
   "metadata": {
    "colab_type": "text",
    "id": "NX-YRKX09I_U"
   },
   "source": [
    "**Expected Output**:<pre>\n",
    "[[0 0 0 0 0 0]\n",
    " [0 6 1 2 3 0]\n",
    " [0 3 0 6 1 0]\n",
    " [0 4 5 2 6 0]\n",
    " [0 0 5 8 2 0]\n",
    " [0 0 0 0 0 0]]\n"
   ]
  },
  {
   "cell_type": "markdown",
   "metadata": {
    "colab_type": "text",
    "id": "B1W1kjyK9I_U"
   },
   "source": [
    "---\n",
    "### 18. \n",
    "**Create a $6\\ \\times\\ 6$ matrix with values `0,1,2,3,4,5` on the diagonal** <pre>(1 line ★☆☆) "
   ]
  },
  {
   "cell_type": "code",
   "execution_count": 24,
   "metadata": {
    "colab": {},
    "colab_type": "code",
    "id": "V3j7xv9v9I_V"
   },
   "outputs": [
    {
     "name": "stdout",
     "output_type": "stream",
     "text": [
      "[[0 0 0 0 0 0]\n",
      " [0 1 0 0 0 0]\n",
      " [0 0 2 0 0 0]\n",
      " [0 0 0 3 0 0]\n",
      " [0 0 0 0 4 0]\n",
      " [0 0 0 0 0 5]]\n"
     ]
    }
   ],
   "source": [
    "L = np.diag(list(np.arange(0,6)))\n",
    "print(L)"
   ]
  },
  {
   "cell_type": "markdown",
   "metadata": {
    "colab_type": "text",
    "id": "u2dot9ET9I_X"
   },
   "source": [
    "**Expected Output**:<pre>[[0 0 0 0 0 0]\n",
    " [0 1 0 0 0 0]\n",
    " [0 0 2 0 0 0]\n",
    " [0 0 0 3 0 0]\n",
    " [0 0 0 0 4 0]\n",
    " [0 0 0 0 0 5]]\n"
   ]
  },
  {
   "cell_type": "markdown",
   "metadata": {
    "colab_type": "text",
    "id": "PqqlY5q99I_Y"
   },
   "source": [
    "---\n",
    "### 19. \n",
    "**Create a $7\\ \\times\\ 7$ matrix with values `1,2,3,4,5,6` just `BELOW` the diagonal** <pre>(1 line ★☆☆) "
   ]
  },
  {
   "cell_type": "code",
   "execution_count": 25,
   "metadata": {
    "colab": {},
    "colab_type": "code",
    "id": "GHqYnWjH9I_Z"
   },
   "outputs": [
    {
     "name": "stdout",
     "output_type": "stream",
     "text": [
      "[[0 0 0 0 0 0 0]\n",
      " [1 0 0 0 0 0 0]\n",
      " [0 2 0 0 0 0 0]\n",
      " [0 0 3 0 0 0 0]\n",
      " [0 0 0 4 0 0 0]\n",
      " [0 0 0 0 5 0 0]\n",
      " [0 0 0 0 0 6 0]]\n"
     ]
    }
   ],
   "source": [
    "# M = np.diag(np.zeros(shape=(7,7), dtype=int),k=-1)\n",
    "M = np.diag(list(np.arange(1,7)), k=-1)\n",
    "print(M)"
   ]
  },
  {
   "cell_type": "markdown",
   "metadata": {
    "colab_type": "text",
    "id": "be_61xbE9I_b"
   },
   "source": [
    "**Expected Output**:<pre>[[0 0 0 0 0 0 0]\n",
    " [1 0 0 0 0 0 0]\n",
    " [0 2 0 0 0 0 0]\n",
    " [0 0 3 0 0 0 0]\n",
    " [0 0 0 4 0 0 0]\n",
    " [0 0 0 0 5 0 0]\n",
    " [0 0 0 0 0 6 0]]\n"
   ]
  },
  {
   "cell_type": "markdown",
   "metadata": {
    "colab_type": "text",
    "id": "us176xNM9I_b"
   },
   "source": [
    "---\n",
    "### 20. \n",
    "**Create a $6\\ \\times\\ 6$ matrix and fill it with a checkerboard pattern `WITHOUT` helper function** <pre>(3 lines ★★☆) "
   ]
  },
  {
   "cell_type": "code",
   "execution_count": 26,
   "metadata": {
    "colab": {},
    "colab_type": "code",
    "id": "8FRUk9qc9I_c"
   },
   "outputs": [
    {
     "name": "stdout",
     "output_type": "stream",
     "text": [
      "[[1 0 1 0 1 0]\n",
      " [1 0 1 0 1 0]\n",
      " [1 0 1 0 1 0]\n",
      " [1 0 1 0 1 0]\n",
      " [1 0 1 0 1 0]\n",
      " [1 0 1 0 1 0]]\n"
     ]
    }
   ],
   "source": [
    "N = np.zeros(6*6, dtype=int)  # use dtype=int\n",
    "N[::2]=1\n",
    "N = N.reshape(6, 6) \n",
    "print(N)"
   ]
  },
  {
   "cell_type": "markdown",
   "metadata": {
    "colab_type": "text",
    "id": "SfemCb6k9I_f"
   },
   "source": [
    "**Expected Output**:<pre>[[0 1 0 1 0 1]\n",
    " [1 0 1 0 1 0]\n",
    " [0 1 0 1 0 1]\n",
    " [1 0 1 0 1 0]\n",
    " [0 1 0 1 0 1]\n",
    " [1 0 1 0 1 0]]\n"
   ]
  },
  {
   "cell_type": "markdown",
   "metadata": {
    "colab_type": "text",
    "id": "0S3bfFad9I_g"
   },
   "source": [
    "---\n",
    "### 21. \n",
    "**Create a checkerboard $6\\ \\times\\ 6$ matrix using the `tile` function**<pre> (1 line ★☆☆)"
   ]
  },
  {
   "cell_type": "code",
   "execution_count": 27,
   "metadata": {
    "colab": {},
    "colab_type": "code",
    "id": "etOt73ZQ9I_h"
   },
   "outputs": [
    {
     "name": "stdout",
     "output_type": "stream",
     "text": [
      "[[0 1 0 1 0 1]\n",
      " [1 0 1 0 1 0]\n",
      " [0 1 0 1 0 1]\n",
      " [1 0 1 0 1 0]\n",
      " [0 1 0 1 0 1]\n",
      " [1 0 1 0 1 0]]\n"
     ]
    }
   ],
   "source": [
    "O = (np.arange(6*6).reshape(6,6,order='F')-np.arange(6)*(6+1))%2\n",
    "print(O)"
   ]
  },
  {
   "cell_type": "markdown",
   "metadata": {
    "colab_type": "text",
    "id": "if48DNuk9I_j"
   },
   "source": [
    "**Expected Output**:<pre>[[0 1 0 1 0 1]\n",
    " [1 0 1 0 1 0]\n",
    " [0 1 0 1 0 1]\n",
    " [1 0 1 0 1 0]\n",
    " [0 1 0 1 0 1]\n",
    " [1 0 1 0 1 0]]\n"
   ]
  },
  {
   "cell_type": "markdown",
   "metadata": {
    "colab_type": "text",
    "id": "vQr1-oaH9I_j"
   },
   "source": [
    "---\n",
    "### 22. \n",
    "<strike>**Create a 3 x 4 random uniform matrix, then normalize the values to range [0-1]**</strike> <font color=\"red\">[updated 11-09-20]</font><br>\n",
    "**Create a $3\\ \\times\\ 2$ random uniform matrix, then normalize the values to range [0-1]**<pre> (2 lines ★★☆) \n",
    "\n"
   ]
  },
  {
   "cell_type": "code",
   "execution_count": 28,
   "metadata": {
    "colab": {},
    "colab_type": "code",
    "id": "99CXAkPK9I_j"
   },
   "outputs": [
    {
     "name": "stdout",
     "output_type": "stream",
     "text": [
      "before\n",
      "[[0.87 0.58]\n",
      " [0.28 0.19]\n",
      " [0.41 0.12]] \n",
      "\n",
      "after\n",
      "[[1.   0.62]\n",
      " [0.21 0.09]\n",
      " [0.39 0.  ]]\n"
     ]
    }
   ],
   "source": [
    "np.random.seed(25)\n",
    "P = np.random.uniform(size=(3,2))\n",
    "print('before')\n",
    "print(P,'\\n')\n",
    "\n",
    "Pmax, Pmin = P.max(), P.min()\n",
    "P = (P - Pmin)/(Pmax - Pmin)\n",
    "print('after')\n",
    "print(P)"
   ]
  },
  {
   "cell_type": "markdown",
   "metadata": {
    "colab_type": "text",
    "id": "WRbcnWzk9I_m"
   },
   "source": [
    "**Expected Output**:<pre>before\n",
    "[[0.87 0.58]\n",
    " [0.28 0.19]\n",
    " [0.41 0.12]] \n",
    "<br>after\n",
    "[[1.   0.62]\n",
    " [0.21 0.09]\n",
    " [0.39 0.  ]]\n",
    "\n"
   ]
  },
  {
   "cell_type": "markdown",
   "metadata": {
    "colab_type": "text",
    "id": "xTD3fbs09I_n"
   },
   "source": [
    "---\n",
    "### 23. \n",
    "**Multiply matrix `E` by matrix `P` (dot product)**<pre> (1 line ★☆☆)"
   ]
  },
  {
   "cell_type": "code",
   "execution_count": 29,
   "metadata": {
    "colab": {},
    "colab_type": "code",
    "id": "_VCQL_fh9I_n"
   },
   "outputs": [
    {
     "name": "stdout",
     "output_type": "stream",
     "text": [
      "[[ 0.99  0.09]\n",
      " [ 5.81  2.22]\n",
      " [10.62  4.34]\n",
      " [15.44  6.47]]\n"
     ]
    }
   ],
   "source": [
    "Q = np.dot(E,P)\n",
    "print(Q)"
   ]
  },
  {
   "cell_type": "markdown",
   "metadata": {
    "colab_type": "text",
    "id": "QWNGAHn29I_p"
   },
   "source": [
    "**Expected Output**:<pre>[[ 0.99  0.09]\n",
    " [ 5.81  2.22]\n",
    " [10.62  4.34]\n",
    " [15.44  6.47]]\n"
   ]
  },
  {
   "cell_type": "markdown",
   "metadata": {
    "colab_type": "text",
    "id": "dsVvYTUH9I_q"
   },
   "source": [
    "---\n",
    "### 24. \n",
    "**Given a 1D array, negate all elements which are `between -4 and 4`, in place.** \n",
    "<br>(switch positive/negative sign)<pre> (1 line ★☆☆)"
   ]
  },
  {
   "cell_type": "code",
   "execution_count": 30,
   "metadata": {
    "colab": {},
    "colab_type": "code",
    "id": "rA6TkYRC9I_q"
   },
   "outputs": [
    {
     "name": "stdout",
     "output_type": "stream",
     "text": [
      "before\n",
      "[-8 -7 -6 -5 -4 -3 -2 -1  0  1  2  3  4  5  6  7  8] \n",
      "\n",
      "after\n",
      "[-8 -7 -6 -5 -4  3  2  1  0 -1 -2 -3  4  5  6  7  8]\n"
     ]
    }
   ],
   "source": [
    "R = np.arange(-8,9)\n",
    "print('before')\n",
    "print(R,'\\n')\n",
    "\n",
    "R[(R > -4) & (R < 4)] *= -1\n",
    "print('after')\n",
    "print(R)"
   ]
  },
  {
   "cell_type": "markdown",
   "metadata": {
    "colab_type": "text",
    "id": "QZQFhzpS9I_r"
   },
   "source": [
    "**Expected Output**:\n",
    "<pre>before\n",
    "[-8 -7 -6 -5 -4 -3 -2 -1  0  1  2  3  4  5  6  7  8] \n",
    "<br>after\n",
    "<strike>[-8 -7 -6 -5 -4  3  2  1  0 -1 -2  3  4  5  6  7  8]</strike><font color=\"red\"> [updated 11-09-20]</font>\n",
    "[-8 -7 -6 -5 -4  3  2  1  0 -1 -2 -3  4  5  6  7  8]\n"
   ]
  },
  {
   "cell_type": "markdown",
   "metadata": {
    "colab_type": "text",
    "id": "E2oqd7VX9I_t"
   },
   "source": [
    "---\n",
    "### 25. \n",
    "**Get common values between two given arrays**<br>\n",
    "(number appears in both arrays)<pre> (1 line ★☆☆) "
   ]
  },
  {
   "cell_type": "code",
   "execution_count": 31,
   "metadata": {
    "colab": {},
    "colab_type": "code",
    "id": "ekOSN-_a9I_v"
   },
   "outputs": [
    {
     "name": "stdout",
     "output_type": "stream",
     "text": [
      "S1= [8 9 3 8 8 0 5 3 9 9] \n",
      "\n",
      "S2= [3 6 6 0 9 8 4 7 0 0] \n",
      "\n",
      "S = [0 3 8 9]\n"
     ]
    }
   ],
   "source": [
    "np.random.seed(3)\n",
    "S1 = np.random.randint(0,10,10)\n",
    "print('S1=', S1,'\\n')\n",
    "\n",
    "np.random.seed(5)\n",
    "S2 = np.random.randint(0,10,10)\n",
    "print('S2=', S2,'\\n')\n",
    "\n",
    "S = np.intersect1d(S1,S2)\n",
    "print('S =', S)"
   ]
  },
  {
   "cell_type": "markdown",
   "metadata": {
    "colab_type": "text",
    "id": "ixuz8dI49I_x"
   },
   "source": [
    "**Expected Output**:<pre>S1= [8 9 3 8 8 0 5 3 9 9] \n",
    "<br>S2= [3 6 6 0 9 8 4 7 0 0] \n",
    "<br>S = [0 3 8 9]\n"
   ]
  },
  {
   "cell_type": "markdown",
   "metadata": {
    "colab_type": "text",
    "id": "ATsd3h6S9I_x"
   },
   "source": [
    "---\n",
    "### 26 \n",
    "**Create random uniform vector of `size 12` then replace the maximum value by `1`, and replace the minimum value by `0`**<pre>( 3 lines ★★☆) "
   ]
  },
  {
   "cell_type": "code",
   "execution_count": 32,
   "metadata": {
    "colab": {},
    "colab_type": "code",
    "id": "7yr4_FkU9I_y"
   },
   "outputs": [
    {
     "name": "stdout",
     "output_type": "stream",
     "text": [
      "before= [0.85 0.18 0.05 0.36 0.28 0.53 0.31 0.3  0.11 0.25 0.92 0.26] \n",
      "\n",
      "after = [0.85 0.18 0.   0.36 0.28 0.53 0.31 0.3  0.11 0.25 1.   0.26]\n"
     ]
    }
   ],
   "source": [
    "np.random.seed(15)\n",
    "T = np.random.uniform(size=12)\n",
    "print('before=',T,'\\n')\n",
    "\n",
    "T[T == T.max()] = 1.\n",
    "T[T == T.min()] = 0.\n",
    "print('after =',T)"
   ]
  },
  {
   "cell_type": "markdown",
   "metadata": {
    "colab_type": "text",
    "id": "Sqqm-qBt9I_0"
   },
   "source": [
    "**Expected Output**:<pre>before= [0.85 0.18 0.05 0.36 0.28 0.53 0.31 0.3  0.11 0.25 0.92 0.26] \n",
    "<br>after = [0.85 0.18 0.   0.36 0.28 0.53 0.31 0.3  0.11 0.25 1.   0.26]"
   ]
  },
  {
   "cell_type": "markdown",
   "metadata": {
    "colab_type": "text",
    "id": "IMmIUsbk9I_1"
   },
   "source": [
    "---\n",
    "### 27. \n",
    "**Get the `MEAN` of matrix `Q`, also `mean value across the row and column`**<pre> (2 line ★★☆)</pre>\n",
    "hint: use `axis ` and `keepdims`"
   ]
  },
  {
   "cell_type": "code",
   "execution_count": 33,
   "metadata": {
    "colab": {},
    "colab_type": "code",
    "id": "5otf7w3N9I_2"
   },
   "outputs": [
    {
     "name": "stdout",
     "output_type": "stream",
     "text": [
      "Q\n",
      "[[ 0.99  0.09]\n",
      " [ 5.81  2.22]\n",
      " [10.62  4.34]\n",
      " [15.44  6.47]] \n",
      "\n",
      "Matrix Mean\n",
      "5.748021117169012 \n",
      "\n",
      "Row Mean\n",
      "[ 0.54  4.01  7.48 10.95] \n",
      "\n",
      "Column Mean\n",
      "[8.22 3.28]\n"
     ]
    }
   ],
   "source": [
    "print('Q')\n",
    "print(Q,'\\n')\n",
    "U1 = Q.mean()\n",
    "U2 = Q.mean(axis=1)\n",
    "U3 = Q.mean(axis=0)\n",
    "\n",
    "print('Matrix Mean')\n",
    "print(U1,'\\n')\n",
    "\n",
    "print('Row Mean')\n",
    "print(U2,'\\n')\n",
    "\n",
    "print('Column Mean')\n",
    "print(U3)"
   ]
  },
  {
   "cell_type": "markdown",
   "metadata": {
    "colab_type": "text",
    "id": "9WTBwqDV9I_3"
   },
   "source": [
    "**Expected Output**:<pre>Q\n",
    "[[ 0.99  0.09]\n",
    " [ 5.81  2.22]\n",
    " [10.62  4.34]\n",
    " [15.44  6.47]] \n",
    "<br>Matrix Mean\n",
    "5.748021117169012 \n",
    "<br>Row Mean\n",
    "[[ 0.54]\n",
    " [ 4.01]\n",
    " [ 7.48]\n",
    " [10.95]] \n",
    "<br>Column Mean\n",
    "[[8.22 3.28]]"
   ]
  },
  {
   "cell_type": "markdown",
   "metadata": {
    "colab_type": "text",
    "id": "iT7o1wmZ9I_4"
   },
   "source": [
    "---\n",
    "### 28. \n",
    "**Swap 1st and 3rd row of given $5\\ \\times\\ 5$ matrix**<pre>(1 line ★★☆) "
   ]
  },
  {
   "cell_type": "code",
   "execution_count": 34,
   "metadata": {
    "colab": {},
    "colab_type": "code",
    "id": "480sOO_K9I_6"
   },
   "outputs": [
    {
     "name": "stdout",
     "output_type": "stream",
     "text": [
      "before\n",
      "[[9 5 1 1 9]\n",
      " [4 3 2 9 7]\n",
      " [1 5 7 5 5]\n",
      " [8 9 6 7 6]\n",
      " [3 7 3 9 3]] \n",
      "\n",
      "after\n",
      "[[1 5 7 5 5]\n",
      " [4 3 2 9 7]\n",
      " [9 5 1 1 9]\n",
      " [8 9 6 7 6]\n",
      " [3 7 3 9 3]]\n"
     ]
    }
   ],
   "source": [
    "np.random.seed(21)\n",
    "V = np.random.randint(1,10,(5,5))\n",
    "print('before')\n",
    "print(V,'\\n')\n",
    "\n",
    "V[[0, 2]] = V[[2, 0]]\n",
    "print('after')\n",
    "print(V)"
   ]
  },
  {
   "cell_type": "markdown",
   "metadata": {
    "colab_type": "text",
    "id": "VVouxJDU9I_8"
   },
   "source": [
    "**Expected Output**:<pre>before\n",
    "[[9 5 1 1 9]\n",
    " [4 3 2 9 7]\n",
    " [1 5 7 5 5]\n",
    " [8 9 6 7 6]\n",
    " [3 7 3 9 3]] \n",
    "<br>after\n",
    "[[1 5 7 5 5]\n",
    " [4 3 2 9 7]\n",
    " [9 5 1 1 9]\n",
    " [8 9 6 7 6]\n",
    " [3 7 3 9 3]]"
   ]
  },
  {
   "cell_type": "markdown",
   "metadata": {
    "colab_type": "text",
    "id": "qI04SSGkqmpy"
   },
   "source": [
    "---\n",
    "### 29. \n",
    "**Reshape a given $4\\ \\times\\ 6$ matrix into a $2\\ \\times\\ 12$ matrix**<pre>(1 line ★☆☆) "
   ]
  },
  {
   "cell_type": "code",
   "execution_count": 35,
   "metadata": {
    "colab": {},
    "colab_type": "code",
    "id": "dnr_WL0lpvXJ"
   },
   "outputs": [
    {
     "name": "stdout",
     "output_type": "stream",
     "text": [
      "before\n",
      "[[1 6 6 1 4 1]\n",
      " [9 2 1 3 7 5]\n",
      " [1 1 6 6 7 4]\n",
      " [5 7 1 1 1 6]]\n",
      "shape:  (4, 6) \n",
      "\n",
      "after\n",
      "[[1 6 6 1 4 1 9 2 1 3 7 5]\n",
      " [1 1 6 6 7 4 5 7 1 1 1 6]]\n",
      "shape:  (2, 12) \n",
      "\n"
     ]
    }
   ],
   "source": [
    "W = np.random.randint(1,10,(4,6))\n",
    "print('before')\n",
    "print(W)\n",
    "print('shape: ', W.shape,'\\n')\n",
    "\n",
    "W = W.reshape(2,12)\n",
    "print('after')\n",
    "print(W)\n",
    "print('shape: ', W.shape,'\\n')\n"
   ]
  },
  {
   "cell_type": "markdown",
   "metadata": {
    "colab_type": "text",
    "id": "u51M9NK1q05x"
   },
   "source": [
    "**Expected Output**:<pre>\n",
    "before\n",
    "[[2 1 9 4 5 1]\n",
    " [3 1 9 2 2 5]\n",
    " [7 9 6 1 4 6]\n",
    " [8 1 9 6 4 8]]\n",
    "shape:  (4, 6) \n",
    "<br>after\n",
    "[[2 1 9 4 5 1 3 1 9 2 2 5]\n",
    " [7 9 6 1 4 6 8 1 9 6 4 8]]\n",
    "shape:  (2, 12) "
   ]
  },
  {
   "cell_type": "markdown",
   "metadata": {
    "colab_type": "text",
    "id": "xWOlDpCrq7Cp"
   },
   "source": [
    "---\n",
    "### 30. \n",
    "**Reshape previous matrix into a $2\\ \\times\\ 3\\times\\ 4$ matrix** <br>\n",
    "(3 dimensional)<pre>(1 line ★☆☆) "
   ]
  },
  {
   "cell_type": "code",
   "execution_count": 36,
   "metadata": {
    "colab": {},
    "colab_type": "code",
    "id": "VWldwNf2qS4o"
   },
   "outputs": [
    {
     "name": "stdout",
     "output_type": "stream",
     "text": [
      "after\n",
      "[[[1 6 6 1]\n",
      "  [4 1 9 2]\n",
      "  [1 3 7 5]]\n",
      "\n",
      " [[1 1 6 6]\n",
      "  [7 4 5 7]\n",
      "  [1 1 1 6]]]\n",
      "shape:  (2, 3, 4) \n",
      "\n"
     ]
    }
   ],
   "source": [
    "W = W.reshape(2,3,4)\n",
    "print('after')\n",
    "print(W)\n",
    "print('shape: ', W.shape,'\\n')\n"
   ]
  },
  {
   "cell_type": "markdown",
   "metadata": {
    "colab_type": "text",
    "id": "cmTsioH_rJ3a"
   },
   "source": [
    "**Expected Output**:<pre>after\n",
    "[[[2 1 9 4]\n",
    "  [5 1 3 1]\n",
    "  [9 2 2 5]]\n",
    "<br> [[7 9 6 1]\n",
    "  [4 6 8 1]\n",
    "  [9 6 4 8]]]\n",
    "shape:  (2, 3, 4) "
   ]
  },
  {
   "cell_type": "markdown",
   "metadata": {
    "colab_type": "text",
    "id": "xyJC0Fqhrnyx"
   },
   "source": [
    "---\n",
    "### 31. \n",
    "**Reshape previous matrix into a 1 dimensional array** <br>\n",
    "(flatten)<pre>(1 line ★☆☆) "
   ]
  },
  {
   "cell_type": "code",
   "execution_count": 37,
   "metadata": {
    "colab": {},
    "colab_type": "code",
    "id": "teHZxGkTrny0"
   },
   "outputs": [
    {
     "name": "stdout",
     "output_type": "stream",
     "text": [
      "after\n",
      "[1 6 6 1 4 1 9 2 1 3 7 5 1 1 6 6 7 4 5 7 1 1 1 6]\n",
      "shape:  (24,) \n",
      "\n"
     ]
    }
   ],
   "source": [
    "W = W.flatten()\n",
    "print('after')\n",
    "print(W)\n",
    "print('shape: ', W.shape,'\\n')\n"
   ]
  },
  {
   "cell_type": "markdown",
   "metadata": {
    "colab_type": "text",
    "id": "kPXqzdPHrny9"
   },
   "source": [
    "**Expected Output**:<pre>after\n",
    "[2 1 9 4 5 1 3 1 9 2 2 5 7 9 6 1 4 6 8 1 9 6 4 8]\n",
    "shape:  (24,)"
   ]
  },
  {
   "cell_type": "markdown",
   "metadata": {
    "colab_type": "text",
    "id": "1T66nLyX9I_9"
   },
   "source": [
    "---\n",
    "### i. \n",
    "**Save all matrices `A to V` into a `.npz` file with your ID as the filename**"
   ]
  },
  {
   "cell_type": "code",
   "execution_count": 38,
   "metadata": {
    "colab": {},
    "colab_type": "code",
    "id": "jjgvN3zW9I_-"
   },
   "outputs": [],
   "source": [
    "np.savez(ID+'.npz', A=A, B=B, C=C, D=D, E=E, F=F, G=G, H=H, I=I, J=J, K=K, L=L, M=M, N=N, O=O, P=P, Q=Q, R=R, S=S, T=T, U1=U1, U2=U2, U3=U3, V=V)"
   ]
  },
  {
   "cell_type": "code",
   "execution_count": 39,
   "metadata": {},
   "outputs": [],
   "source": [
    "data = np.load(ID+'.npz')"
   ]
  },
  {
   "cell_type": "code",
   "execution_count": 40,
   "metadata": {
    "colab": {},
    "colab_type": "code",
    "id": "7THeoCcr9JAB"
   },
   "outputs": [
    {
     "name": "stdout",
     "output_type": "stream",
     "text": [
      "(4, 5)\n",
      "(4, 2)\n",
      "(5, 5)\n"
     ]
    }
   ],
   "source": [
    "print(data['A'].shape)\n",
    "print(data['Q'].shape)\n",
    "print(data['V'].shape)"
   ]
  },
  {
   "cell_type": "markdown",
   "metadata": {
    "colab_type": "text",
    "id": "hDJDPhI19JAC"
   },
   "source": [
    "---\n",
    "### ii.\n",
    "**Clear all variables using `%reset`, then load your `.npz` file into `data` dictionary and verify the loaded matrices**"
   ]
  },
  {
   "cell_type": "markdown",
   "metadata": {
    "colab_type": "text",
    "id": "pXTNl1KT9JAE"
   },
   "source": [
    "run this and press y to reset all variables"
   ]
  },
  {
   "cell_type": "code",
   "execution_count": 41,
   "metadata": {
    "colab": {},
    "colab_type": "code",
    "id": "RSGmFuT69JAF"
   },
   "outputs": [
    {
     "name": "stdout",
     "output_type": "stream",
     "text": [
      "Once deleted, variables cannot be recovered. Proceed (y/[n])? y\n"
     ]
    }
   ],
   "source": [
    "%reset"
   ]
  },
  {
   "cell_type": "markdown",
   "metadata": {
    "colab_type": "text",
    "id": "7SaoPdSr9JAG"
   },
   "source": [
    "check loaded variables"
   ]
  },
  {
   "cell_type": "code",
   "execution_count": 42,
   "metadata": {
    "colab": {},
    "colab_type": "code",
    "id": "apb9eR3J9JAG"
   },
   "outputs": [
    {
     "name": "stdout",
     "output_type": "stream",
     "text": [
      "(4, 5)\n",
      "(4, 2)\n",
      "(5, 5)\n"
     ]
    }
   ],
   "source": [
    "import numpy as np\n",
    "ID = '1301174682'\n",
    "data = np.load(ID+'.npz')\n",
    "print(data['A'].shape)\n",
    "print(data['Q'].shape)\n",
    "print(data['V'].shape)"
   ]
  },
  {
   "cell_type": "markdown",
   "metadata": {
    "colab_type": "text",
    "id": "vCNXjpjc9JAI"
   },
   "source": [
    "# Congratulation, You've Completed Pre-Exercise\n",
    "<p>All best regard to the one who've had assignment me to complete this hands-on lab 1st series which is Mas Andit - Telkom University Lecturer</p>"
   ]
  }
 ],
 "metadata": {
  "colab": {
   "collapsed_sections": [],
   "name": "CV2020 - 00 - Introduction Exercises.ipynb",
   "provenance": [],
   "toc_visible": true
  },
  "kernelspec": {
   "display_name": "Python 3",
   "language": "python",
   "name": "python3"
  },
  "language_info": {
   "codemirror_mode": {
    "name": "ipython",
    "version": 3
   },
   "file_extension": ".py",
   "mimetype": "text/x-python",
   "name": "python",
   "nbconvert_exporter": "python",
   "pygments_lexer": "ipython3",
   "version": "3.8.5"
  }
 },
 "nbformat": 4,
 "nbformat_minor": 1
}
