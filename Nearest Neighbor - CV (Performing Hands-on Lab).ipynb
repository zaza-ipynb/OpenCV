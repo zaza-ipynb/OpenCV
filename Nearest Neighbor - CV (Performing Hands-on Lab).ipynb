{
 "cells": [
  {
   "cell_type": "markdown",
   "metadata": {
    "colab_type": "text",
    "id": "rwj_Gf4x9HH-"
   },
   "source": [
    "# Exercise 0 - K-Nearest Neighbor\n",
    "\n",
    "\n",
    "In this exercise you will investigate and grasp the basic understanding of a simple classification and hyperparameter tuning using basic k-Nearest Neighbor classifier. The aim is to understand how to split the train / val / test set and the use of validation data for hyperparameter tuning."
   ]
  },
  {
   "cell_type": "markdown",
   "metadata": {
    "colab_type": "text",
    "id": "wEW9np-S9HH_"
   },
   "source": [
    "---\n",
    "## 0 - Import Libraries"
   ]
  },
  {
   "cell_type": "code",
   "execution_count": 1,
   "metadata": {
    "colab": {},
    "colab_type": "code",
    "id": "BHvn7jmIx3Vy"
   },
   "outputs": [],
   "source": [
    "import matplotlib.pyplot as plt\n",
    "import numpy as np\n",
    "import time \n",
    "import warnings\n",
    "\n",
    "warnings.filterwarnings('ignore')\n",
    "np.set_printoptions(3)\n",
    "\n",
    "from sklearn.datasets import make_classification\n",
    "from sklearn.metrics import classification_report, accuracy_score\n",
    "from scipy.spatial.distance import cdist"
   ]
  },
  {
   "cell_type": "markdown",
   "metadata": {
    "colab_type": "text",
    "id": "eh1ghgVAyH8N"
   },
   "source": [
    "---\n",
    "## 1 - Generate Data\n",
    "\n",
    "* generate `6000` data of `4 classes`\n",
    "* get `90%` of it as training set and the rest as test set"
   ]
  },
  {
   "cell_type": "code",
   "execution_count": 2,
   "metadata": {
    "colab": {},
    "colab_type": "code",
    "id": "4ORUG_x-9HIL"
   },
   "outputs": [],
   "source": [
    "n_data = 6000\n",
    "n_test = int(n_data*.9)//2\n",
    "\n",
    "X1, y1 = make_classification(n_samples=n_data//2, n_features=2, n_redundant=0, n_informative=2,  shift=0.2, flip_y=0.09,\n",
    "                             n_clusters_per_class=2, n_classes=2, class_sep=1.5, random_state=27)\n",
    "\n",
    "\n",
    "X2, y2 = make_classification(n_samples=n_data//2, n_features=2, n_redundant=0, n_informative=2, shift=0.5, flip_y=0.09,\n",
    "                             n_clusters_per_class=2, n_classes=2, class_sep=2, random_state=13)\n",
    "\n",
    "y2+=2\n",
    "X2+=1.5\n",
    "\n",
    "X_train = np.vstack((X1[:n_test,:],X2[:n_test,:]))\n",
    "y_train = np.hstack((y1[:n_test],y2[:n_test]))\n",
    "X_test = np.vstack((X1[n_test:,:],X2[n_test:,:]))\n",
    "y_test = np.hstack((y1[n_test:,],y2[n_test:]))"
   ]
  },
  {
   "cell_type": "code",
   "execution_count": null,
   "metadata": {
    "colab": {},
    "colab_type": "code",
    "id": "i9ac2Ad99HIR"
   },
   "outputs": [],
   "source": [
    "idx = np.arange(X_train.shape[0])\n",
    "np.random.shuffle(idx)\n",
    "X_train = X_train[idx,:]\n",
    "y_train = y_train[idx]"
   ]
  },
  {
   "cell_type": "code",
   "execution_count": null,
   "metadata": {
    "colab": {},
    "colab_type": "code",
    "id": "wDBSS6O49HIU"
   },
   "outputs": [],
   "source": [
    "print('X_train.shape =',X_train.shape)\n",
    "print('y_train.shape =',y_train.shape)\n",
    "print('X_test.shape  =',X_test.shape)\n",
    "print('y_test.shape  =',y_test.shape)"
   ]
  },
  {
   "cell_type": "markdown",
   "metadata": {
    "colab_type": "text",
    "id": "ud8PmF9i9HIZ"
   },
   "source": [
    "**Expected Output**: \n",
    "<pre>\n",
    "X_train.shape = (5400, 2)\n",
    "y_train.shape = (5400,)\n",
    "X_test.shape  = (600, 2)\n",
    "y_test.shape  = (600,)\n"
   ]
  },
  {
   "cell_type": "markdown",
   "metadata": {
    "colab_type": "text",
    "id": "lxHQrSQQ4isE"
   },
   "source": [
    "---\n",
    "## 2 - Scatter Plot Data\n",
    "* function to show scatter plot of data"
   ]
  },
  {
   "cell_type": "code",
   "execution_count": null,
   "metadata": {
    "colab": {},
    "colab_type": "code",
    "id": "ZWy9Htoi4K28"
   },
   "outputs": [],
   "source": [
    "COLORS=['red','green','blue','black']\n",
    "\n",
    "def scatter_plot(ax, x, y):\n",
    "    unique = np.unique(y)\n",
    "    for li in range(len(unique)):\n",
    "        x_s = x[y==unique[li]]\n",
    "        ax.scatter(x_s[:,0],x_s[:,1],c=COLORS[li])\n",
    "        ax.grid(b=True, which='both', color='k', linestyle='-',linewidth=.1)\n"
   ]
  },
  {
   "cell_type": "code",
   "execution_count": null,
   "metadata": {
    "colab": {},
    "colab_type": "code",
    "id": "Hjfqz8Gw4NOo"
   },
   "outputs": [],
   "source": [
    "print('trainset')\n",
    "fig, ax = plt.subplots()\n",
    "scatter_plot(ax, X_train, y_train)\n",
    "plt.show()\n",
    "\n",
    "print('testset')\n",
    "fig, ax = plt.subplots()\n",
    "scatter_plot(ax, X_test, y_test)\n",
    "plt.show()"
   ]
  },
  {
   "cell_type": "markdown",
   "metadata": {
    "colab_type": "text",
    "id": "_w8RQ-wt4lm0"
   },
   "source": [
    "---\n",
    "## 3 -  K Nearest Neighbor from scratch\n",
    "* K Nearest Neighbor class"
   ]
  },
  {
   "cell_type": "code",
   "execution_count": null,
   "metadata": {
    "colab": {},
    "colab_type": "code",
    "id": "4qYSK9Zf9HIp"
   },
   "outputs": [],
   "source": [
    "class KNearestNeighbor(object):\n",
    "\n",
    "    def __init__(self, x, y):\n",
    "        self.x_train = x\n",
    "        self.y_train = y\n",
    "\n",
    "\n",
    "    def predict(self, x, k, distance='euclidean'):\n",
    "        num_test = x.shape[0]\n",
    "        num_train = self.x_train.shape[0]\n",
    "        dists = np.zeros((num_test, num_train))\n",
    "        if distance == 'euclidean':\n",
    "            dists = cdist(x, self.x_train)\n",
    "        elif distance == 'manhattan':\n",
    "            dists = cdist(x, self.x_train, metric='cityblock')\n",
    "        else:\n",
    "            pass\n",
    "        \n",
    "        return self.__predict_labels(dists, k=k)\n",
    "\n",
    "    def __predict_labels(self, dists, k):\n",
    "        num_test = dists.shape[0]\n",
    "        y_pred = np.zeros(num_test)\n",
    "        for i in range(num_test):\n",
    "            closest_y = []      # list dengan lebar k berisi label dari\n",
    "                                # sebanyak k-tetangga terdekat terhadap data uji ke-i\n",
    "            closest_y = [self.y_train[idx] for idx in np.argsort(dists[i])[:k]]\n",
    "\n",
    "            labels = []\n",
    "            count = []\n",
    "            count_index = -1\n",
    "            prev = -1\n",
    "            for j in np.sort(closest_y):\n",
    "                if j != prev:\n",
    "                    count.append(1)\n",
    "                    count_index += 1\n",
    "                    prev = j\n",
    "                    labels.append(j)\n",
    "                else:\n",
    "                    count[count_index] += 1\n",
    "            y_pred[i] = labels[np.argmax(count)]\n",
    "\n",
    "        return y_pred\n"
   ]
  },
  {
   "cell_type": "markdown",
   "metadata": {
    "colab_type": "text",
    "id": "yS-NZP3h9HIt"
   },
   "source": [
    "---\n",
    "# Questions\n",
    "* **Question 1:** what is the training time of KNN Classifier?\n",
    "\n",
    "\n",
    "* **Question 2:** how is the training time of KNN Classifier as the training set and/or testing set grow larger?\n",
    "\n",
    "\n",
    "* **Question 3:** how is the testing time of KNN Classifier compared to the training time? is it faster or slower?\n",
    "\n",
    "\n",
    "* **Question 4:** how is the testing time of KNN Classifier as the training set and/or testing set grow larger?"
   ]
  },
  {
   "cell_type": "code",
   "execution_count": null,
   "metadata": {
    "colab": {},
    "colab_type": "code",
    "id": "DairF0BK9HIu"
   },
   "outputs": [],
   "source": [
    "pause, read the questions first, then continue \n",
    "# delete or comment this cell"
   ]
  },
  {
   "cell_type": "markdown",
   "metadata": {
    "colab_type": "text",
    "id": "J93TeAQv9HIz"
   },
   "source": [
    "---\n",
    "## 4 - Train KNN Classifier\n"
   ]
  },
  {
   "cell_type": "code",
   "execution_count": null,
   "metadata": {
    "colab": {},
    "colab_type": "code",
    "id": "cSxxy3us9HI0"
   },
   "outputs": [],
   "source": [
    "tic = time.time()\n",
    "knn = KNearestNeighbor(X_train, y_train)\n",
    "toc = time.time()\n",
    "\n",
    "print('training speed =', toc-tic,'seconds')"
   ]
  },
  {
   "cell_type": "markdown",
   "metadata": {
    "colab_type": "text",
    "id": "A596VmxY9HI4"
   },
   "source": [
    "---\n",
    "## 5 - Testing KNN Classifier"
   ]
  },
  {
   "cell_type": "code",
   "execution_count": null,
   "metadata": {
    "colab": {},
    "colab_type": "code",
    "id": "lM7zet5g9HI5"
   },
   "outputs": [],
   "source": [
    "tic = time.time()\n",
    "knn.predict(X_test, k=3)\n",
    "toc = time.time()\n",
    "\n",
    "print('testing speed = {0:.3f} seconds'.format(toc-tic))"
   ]
  },
  {
   "cell_type": "markdown",
   "metadata": {
    "colab_type": "text",
    "id": "ARl1VJpi9HI9"
   },
   "source": [
    "---\n",
    "## 6 - Testing KNN Classifier as the Training set grow larger\n",
    "* test KNN classifier using trainset form 1000 to 6000 in 1000 data increment"
   ]
  },
  {
   "cell_type": "code",
   "execution_count": null,
   "metadata": {
    "colab": {},
    "colab_type": "code",
    "id": "VG3WZkBw9HI-"
   },
   "outputs": [],
   "source": [
    "times = []\n",
    "\n",
    "n_data = np.arange(1000,X_train.shape[0]+1,1000)\n",
    "\n",
    "for n in n_data:    \n",
    "    tic = time.time()\n",
    "    knn_small = KNearestNeighbor(X_train[:n], y_train[:n])\n",
    "    knn_small.predict(X_test, k=1)    \n",
    "    toc = time.time()\n",
    "    \n",
    "    times.append(toc-tic)"
   ]
  },
  {
   "cell_type": "code",
   "execution_count": null,
   "metadata": {
    "colab": {},
    "colab_type": "code",
    "id": "mvhFGmEF9HJJ"
   },
   "outputs": [],
   "source": [
    "print('testing speed')\n",
    "plt.plot(times)\n",
    "plt.ylabel('testing time (seconds)')\n",
    "plt.xlabel('n data train used')\n",
    "plt.xticks(np.arange(len(n_data)), n_data)\n",
    "plt.show()"
   ]
  },
  {
   "cell_type": "markdown",
   "metadata": {
    "colab_type": "text",
    "id": "ATtFbSnh9HJM"
   },
   "source": [
    "---\n",
    "# Questions\n",
    "* **Question 5:** what is the accuracy of Nearest Neighbor `(k=1)` on Training set? <br>Why is that?\n",
    "\n",
    "\n",
    "* **Question 6:** is the accuracy of k-Nearest Neighbor `(k>1)` on Training set will be equivalent to using Nearest Neighbor `(k=1)`?<br>is it higher or lower? Why is that?\n"
   ]
  },
  {
   "cell_type": "code",
   "execution_count": null,
   "metadata": {
    "colab": {},
    "colab_type": "code",
    "id": "zRZ3JFt-9HJN"
   },
   "outputs": [],
   "source": [
    "pause, read the questions first, then continue \n",
    "# delete or comment this cell"
   ]
  },
  {
   "cell_type": "markdown",
   "metadata": {
    "colab_type": "text",
    "id": "_-d4vWw89HJS"
   },
   "source": [
    "---\n",
    "## 7 - Nearest Neighbor Accuracy"
   ]
  },
  {
   "cell_type": "markdown",
   "metadata": {
    "colab_type": "text",
    "id": "FFzLEXNm9HJT"
   },
   "source": [
    "---\n",
    "### a. Nearest Neightbor (k=1)"
   ]
  },
  {
   "cell_type": "code",
   "execution_count": null,
   "metadata": {
    "colab": {},
    "colab_type": "code",
    "id": "dBfaP8139HJT"
   },
   "outputs": [],
   "source": [
    "accuracy = accuracy_score(y_train, knn.predict(X_train, k=1))\n",
    "\n",
    "print('Nearest Neighbor Accuracy = {0:.2f}%'.format(accuracy*100))"
   ]
  },
  {
   "cell_type": "markdown",
   "metadata": {
    "colab_type": "text",
    "id": "jlbeBeXP9HJY"
   },
   "source": [
    "---\n",
    "### b. 3-Nearest Neightbor (k=3)"
   ]
  },
  {
   "cell_type": "code",
   "execution_count": null,
   "metadata": {
    "colab": {},
    "colab_type": "code",
    "id": "BTB1ixTm9HJZ"
   },
   "outputs": [],
   "source": [
    "accuracy = accuracy_score(y_train, knn.predict(X_train, k=3))\n",
    "\n",
    "print('3-Nearest Neighbor Accuracy = {0:.2f}%'.format(accuracy*100))"
   ]
  },
  {
   "cell_type": "markdown",
   "metadata": {
    "colab_type": "text",
    "id": "NCa-8xk99HJb"
   },
   "source": [
    "---\n",
    "### c. 9-Nearest Neightbor (k=9)"
   ]
  },
  {
   "cell_type": "code",
   "execution_count": null,
   "metadata": {
    "colab": {},
    "colab_type": "code",
    "id": "PuBUwdxk9HJc",
    "scrolled": true
   },
   "outputs": [],
   "source": [
    "accuracy = accuracy_score(y_train, knn.predict(X_train, k=9))\n",
    "\n",
    "print('9-Nearest Neighbor Accuracy = {0:.2f}%'.format(accuracy*100))"
   ]
  },
  {
   "cell_type": "markdown",
   "metadata": {
    "colab_type": "text",
    "id": "c9Vw-t_W9HJg"
   },
   "source": [
    "---\n",
    "# Questions\n",
    "* **Question 7:** what is the difference when using the Euclidean distance and using Manhattan distance?\n"
   ]
  },
  {
   "cell_type": "code",
   "execution_count": null,
   "metadata": {
    "colab": {},
    "colab_type": "code",
    "id": "RjCjUZnm9HJh"
   },
   "outputs": [],
   "source": [
    "pause, read the questions first, then continue \n",
    "# delete or comment this cell"
   ]
  },
  {
   "cell_type": "markdown",
   "metadata": {
    "colab_type": "text",
    "id": "uX3xS6ZT9HJl"
   },
   "source": [
    "---\n",
    "## 8 - Classifier Area Plot\n",
    "* function to show the classification area"
   ]
  },
  {
   "cell_type": "code",
   "execution_count": null,
   "metadata": {
    "colab": {},
    "colab_type": "code",
    "id": "OtHBa1P14pbM"
   },
   "outputs": [],
   "source": [
    "from matplotlib.colors import ListedColormap\n",
    "\n",
    "def plot_model(classifier, X, y, k, distance):\n",
    "    h = .2\n",
    "    cmap_light = ListedColormap(['#FFAAAA', '#AAFFAA', '#AAAAFF', '#AAAAAA'])\n",
    "    cmap_bold = ListedColormap(['#FF0000', '#00FF00', '#0000FF', '#111111'])\n",
    "\n",
    "    x_min, x_max = X[:, 0].min() - 1, X[:, 0].max() + 1\n",
    "    y_min, y_max = X[:, 1].min() - 1, X[:, 1].max() + 1\n",
    "\n",
    "    xx, yy = np.meshgrid(np.arange(x_min, x_max, h),\n",
    "                       np.arange(y_min, y_max, h))\n",
    "    Z = classifier.predict(np.c_[xx.ravel(), yy.ravel()], k=k, distance=distance)\n",
    "\n",
    "    Z = Z.reshape(xx.shape)\n",
    "    \n",
    "    print('plotting distance', distance)\n",
    "    \n",
    "    plt.figure()\n",
    "    plt.pcolormesh(xx, yy, Z, cmap=cmap_light)\n",
    "\n",
    "    plt.scatter(X[:, 0], X[:, 1], c=y, cmap=cmap_bold,\n",
    "              edgecolor='k', s=20)\n",
    "    plt.xlim(xx.min(), xx.max())\n",
    "    plt.ylim(yy.min(), yy.max())\n",
    "    plt.show()\n",
    "    \n",
    "  "
   ]
  },
  {
   "cell_type": "markdown",
   "metadata": {
    "colab_type": "text",
    "id": "6CzORbJt9HJn"
   },
   "source": [
    "---\n",
    "## 9 - K-Nearest Neighbor area\n",
    "* plot the classification area of KNN Classifier to show the difference between using Euclidean distance and Manhattan distance\n",
    "* here we use only 200 data training to clearly show the plot"
   ]
  },
  {
   "cell_type": "markdown",
   "metadata": {
    "colab_type": "text",
    "id": "3fTRsyWC9HJo"
   },
   "source": [
    "### a. Create mini trainset"
   ]
  },
  {
   "cell_type": "code",
   "execution_count": null,
   "metadata": {
    "colab": {},
    "colab_type": "code",
    "id": "ewLI6Brq9HJp"
   },
   "outputs": [],
   "source": [
    "n_small = 200\n",
    "X_tr_small = X_train[:n_small,:]\n",
    "y_tr_small = y_train[:n_small]\n",
    "\n",
    "knn_small = KNearestNeighbor(X_tr_small,y_tr_small)"
   ]
  },
  {
   "cell_type": "markdown",
   "metadata": {
    "colab_type": "text",
    "id": "A7uOFBhJ5QkY"
   },
   "source": [
    "### b. Euclidean Nearest Neighbor "
   ]
  },
  {
   "cell_type": "code",
   "execution_count": null,
   "metadata": {
    "colab": {},
    "colab_type": "code",
    "id": "W16Mbyse9HJu"
   },
   "outputs": [],
   "source": [
    "plot_model(knn_small, X_tr_small, y_tr_small, k=1, distance='euclidean')"
   ]
  },
  {
   "cell_type": "markdown",
   "metadata": {
    "colab_type": "text",
    "id": "8TPY6qFi9N3q"
   },
   "source": [
    "### c. Manhattan Nearest Neighbor"
   ]
  },
  {
   "cell_type": "code",
   "execution_count": null,
   "metadata": {
    "colab": {},
    "colab_type": "code",
    "id": "IT1LRE-O9HJy"
   },
   "outputs": [],
   "source": [
    "plot_model(knn_small, X_tr_small, y_tr_small, k=1, distance='manhattan')"
   ]
  },
  {
   "cell_type": "markdown",
   "metadata": {
    "colab_type": "text",
    "id": "vnWiVVgu9ZUM"
   },
   "source": [
    "### d. 3-Nearest Neighbor area"
   ]
  },
  {
   "cell_type": "code",
   "execution_count": null,
   "metadata": {
    "colab": {},
    "colab_type": "code",
    "id": "07WRWBo-4eyd"
   },
   "outputs": [],
   "source": [
    "plot_model(knn_small, X_tr_small, y_tr_small, k=3, distance='euclidean')\n",
    "\n",
    "plot_model(knn_small, X_tr_small, y_tr_small, k=3, distance='manhattan')"
   ]
  },
  {
   "cell_type": "markdown",
   "metadata": {
    "colab_type": "text",
    "id": "lpSbwpVC91tc"
   },
   "source": [
    "### e. 10-Nearest Neighbor area"
   ]
  },
  {
   "cell_type": "code",
   "execution_count": null,
   "metadata": {
    "colab": {},
    "colab_type": "code",
    "id": "JmcEfxuO94Ze",
    "scrolled": false
   },
   "outputs": [],
   "source": [
    "plot_model(knn_small, X_tr_small, y_tr_small, k=10, distance='euclidean')\n",
    "\n",
    "plot_model(knn_small, X_tr_small, y_tr_small, k=10, distance='manhattan')"
   ]
  },
  {
   "cell_type": "markdown",
   "metadata": {
    "colab_type": "text",
    "id": "p7d5GXeY9HJ8"
   },
   "source": [
    "---\n",
    "# Questions\n",
    "* **Question 8:** Which one of these following options is the best way to determine the hyperparameter?\n",
    "    * explain in detail why each choice is good or bad\n",
    "    "
   ]
  },
  {
   "cell_type": "code",
   "execution_count": null,
   "metadata": {
    "colab": {},
    "colab_type": "code",
    "id": "WzYsSruy9HJ9"
   },
   "outputs": [],
   "source": [
    "pause, read the questions first, then continue \n",
    "# delete or comment this cell"
   ]
  },
  {
   "cell_type": "markdown",
   "metadata": {
    "colab_type": "text",
    "id": "L9xsK1Ste7CB"
   },
   "source": [
    "---\n",
    "## 10 - KNN Hyperparameters 1\n",
    "\n",
    "* how to determine which is the best k to use"
   ]
  },
  {
   "cell_type": "markdown",
   "metadata": {
    "colab_type": "text",
    "id": "9nWJB7ct9HKC"
   },
   "source": [
    "### Option 1"
   ]
  },
  {
   "cell_type": "code",
   "execution_count": null,
   "metadata": {
    "colab": {},
    "colab_type": "code",
    "id": "BBCTjzn99HKC"
   },
   "outputs": [],
   "source": [
    "k_tries = [1, 3, 5, 7, 9, 11, 13]\n",
    "acc_list = []\n",
    "for k in k_tries:\n",
    "    acc = accuracy_score(y_train, knn.predict(X_train, k=k))\n",
    "    acc_list.append(acc)\n",
    "    \n",
    "id_k = np.argmax(acc_list)\n",
    "print('the best k is ',k_tries[id_k], ', with accuracy = {0:.2f}%'.format(acc_list[id_k]*100))"
   ]
  },
  {
   "cell_type": "code",
   "execution_count": null,
   "metadata": {
    "colab": {},
    "colab_type": "code",
    "id": "PRxgtlHE9HKF"
   },
   "outputs": [],
   "source": [
    "plt.plot(acc_list)\n",
    "plt.ylabel('accuracy')\n",
    "plt.xlabel('k_tries')\n",
    "plt.xticks(np.arange(len(k_tries)), k_tries)\n",
    "plt.show()"
   ]
  },
  {
   "cell_type": "markdown",
   "metadata": {
    "colab_type": "text",
    "id": "1QI93FO69HKG"
   },
   "source": [
    "### Option 2"
   ]
  },
  {
   "cell_type": "code",
   "execution_count": null,
   "metadata": {
    "colab": {},
    "colab_type": "code",
    "id": "hq2SZ9c49HKG"
   },
   "outputs": [],
   "source": [
    "k_tries = [3, 5, 7, 9, 11, 13]\n",
    "acc_list = []\n",
    "for k in k_tries:\n",
    "    acc = accuracy_score(y_train, knn.predict(X_train, k=k))\n",
    "    acc_list.append(acc)\n",
    "    \n",
    "    \n",
    "id_k = np.argmax(acc_list)\n",
    "print('the best k is ',k_tries[id_k], ', with accuracy = {0:.2f}%'.format(acc_list[id_k]*100))"
   ]
  },
  {
   "cell_type": "code",
   "execution_count": null,
   "metadata": {
    "colab": {},
    "colab_type": "code",
    "id": "BzG5RTaB9HKI"
   },
   "outputs": [],
   "source": [
    "plt.plot(acc_list)\n",
    "plt.ylabel('accuracy')\n",
    "plt.xlabel('k_tries')\n",
    "plt.xticks(np.arange(len(k_tries)), k_tries)\n",
    "plt.show()"
   ]
  },
  {
   "cell_type": "markdown",
   "metadata": {
    "colab_type": "text",
    "id": "o0G6GzTm9HKL"
   },
   "source": [
    "### Option 3"
   ]
  },
  {
   "cell_type": "code",
   "execution_count": null,
   "metadata": {
    "colab": {},
    "colab_type": "code",
    "id": "33H2anUA9HKL"
   },
   "outputs": [],
   "source": [
    "k_tries = [3, 5, 7, 9, 11, 13]\n",
    "acc_list = []\n",
    "for k in k_tries:\n",
    "    acc = accuracy_score(y_test, knn.predict(X_test, k=k))\n",
    "    acc_list.append(acc)\n",
    "    \n",
    "    \n",
    "id_k = np.argmax(acc_list)\n",
    "print('the best k is ',k_tries[id_k], ', with accuracy = {0:.2f}%'.format(acc_list[id_k]*100))"
   ]
  },
  {
   "cell_type": "code",
   "execution_count": null,
   "metadata": {
    "colab": {},
    "colab_type": "code",
    "id": "6E5N3ZHJ9HKM"
   },
   "outputs": [],
   "source": [
    "plt.plot(acc_list)\n",
    "plt.ylabel('accuracy')\n",
    "plt.xlabel('k_tries')\n",
    "plt.xticks(np.arange(len(k_tries)), k_tries)\n",
    "plt.show()"
   ]
  },
  {
   "cell_type": "markdown",
   "metadata": {
    "colab_type": "text",
    "id": "JhL0iRwH9HKO"
   },
   "source": [
    "### Option 4"
   ]
  },
  {
   "cell_type": "code",
   "execution_count": null,
   "metadata": {
    "colab": {},
    "colab_type": "code",
    "id": "mYzLBoxC9HKP"
   },
   "outputs": [],
   "source": [
    "k_tries = [3, 5, 7, 9, 11, 13]\n",
    "\n",
    "val_slice = int(X_train.shape[0]*.9)\n",
    "X_tr = X_train[:val_slice,:]\n",
    "y_tr = y_train[:val_slice]\n",
    "X_val = X_train[val_slice:,:]\n",
    "y_val = y_train[val_slice:]\n",
    "\n",
    "knn_val = KNearestNeighbor(X_tr, y_tr)\n",
    "\n",
    "acc_list = []\n",
    "for k in k_tries:\n",
    "    acc = accuracy_score(y_val, knn_val.predict(X_val, k=k))\n",
    "    acc_list.append(acc)\n",
    "    \n",
    "    \n",
    "id_k = np.argmax(acc_list)\n",
    "print('the best k is ',k_tries[id_k], ', with accuracy = {0:.2f}%'.format(acc_list[id_k]*100))"
   ]
  },
  {
   "cell_type": "code",
   "execution_count": null,
   "metadata": {
    "colab": {},
    "colab_type": "code",
    "id": "YsBnNfaD9HKS"
   },
   "outputs": [],
   "source": [
    "plt.plot(acc_list)\n",
    "plt.ylabel('accuracy')\n",
    "plt.xlabel('k_tries')\n",
    "plt.xticks(np.arange(len(k_tries)), k_tries)\n",
    "plt.show()"
   ]
  },
  {
   "cell_type": "markdown",
   "metadata": {
    "colab_type": "text",
    "id": "4jU1Iplp9HKU"
   },
   "source": [
    "---\n",
    "# Questions\n",
    "* **Question 9:** Which one of these following options is the best way to determine the hyperparameter?\n",
    "    * explain in detail why each choice is good or bad\n",
    "    "
   ]
  },
  {
   "cell_type": "code",
   "execution_count": null,
   "metadata": {
    "colab": {},
    "colab_type": "code",
    "id": "bUbV9aR59HKU"
   },
   "outputs": [],
   "source": [
    "pause, read the questions first, then continue \n",
    "# delete or comment this cell"
   ]
  },
  {
   "cell_type": "markdown",
   "metadata": {
    "colab_type": "text",
    "id": "sWRfrC9Se999"
   },
   "source": [
    "---\n",
    "## 11 - KNN Hyperparameters 2\n",
    "* how to determine which is the best k to use"
   ]
  },
  {
   "cell_type": "markdown",
   "metadata": {
    "colab_type": "text",
    "id": "TxpW2vV39HKb"
   },
   "source": [
    "### Option 5"
   ]
  },
  {
   "cell_type": "code",
   "execution_count": null,
   "metadata": {
    "colab": {},
    "colab_type": "code",
    "id": "G7F2fNS19HKc"
   },
   "outputs": [],
   "source": [
    "k_tries = [3, 5, 7, 9, 11, 13]\n",
    "\n",
    "val_slice = int(X_train.shape[0]*.9)\n",
    "mask = np.arange(X_train.shape[0])\n",
    "np.random.shuffle(mask)\n",
    "\n",
    "X_tr = X_train[mask[:val_slice],:]\n",
    "y_tr = y_train[mask[:val_slice]]\n",
    "X_val = X_train[mask[val_slice:],:]\n",
    "y_val = y_train[mask[val_slice:]]\n",
    "\n",
    "knn_val = KNearestNeighbor(X_tr, y_tr)\n",
    "\n",
    "acc_list = []\n",
    "for k in k_tries:\n",
    "    acc = accuracy_score(y_val, knn_val.predict(X_val, k=k))\n",
    "    acc_list.append(acc)\n",
    "    \n",
    "    \n",
    "id_k = np.argmax(acc_list)\n",
    "print('the best k is ',k_tries[id_k], ', with accuracy = {0:.2f}%'.format(acc_list[id_k]*100))"
   ]
  },
  {
   "cell_type": "code",
   "execution_count": null,
   "metadata": {
    "colab": {},
    "colab_type": "code",
    "id": "m0bwG4PF9HKf"
   },
   "outputs": [],
   "source": [
    "plt.plot(acc_list)\n",
    "plt.ylabel('accuracy')\n",
    "plt.xlabel('k_tries')\n",
    "plt.xticks(np.arange(len(k_tries)), k_tries)\n",
    "plt.show()"
   ]
  },
  {
   "cell_type": "markdown",
   "metadata": {
    "colab_type": "text",
    "id": "1dx6Ooq09HKg"
   },
   "source": [
    "### Option 6"
   ]
  },
  {
   "cell_type": "code",
   "execution_count": null,
   "metadata": {},
   "outputs": [],
   "source": [
    "k_tries = [3, 5, 7, 9, 11, 13]\n",
    "\n",
    "val_slice = int(X_train.shape[0]*.9)\n",
    "mask = np.arange(X_train.shape[0])\n",
    "\n",
    "acc_list = []\n",
    "for k in k_tries:  \n",
    "    \n",
    "    np.random.shuffle(mask)\n",
    "    X_tr = X_train[mask[:val_slice],:]\n",
    "    y_tr = y_train[mask[:val_slice]]\n",
    "    X_val = X_train[mask[val_slice:],:]\n",
    "    y_val = y_train[mask[val_slice:]]\n",
    "    \n",
    "    knn_val = KNearestNeighbor(X_tr, y_tr)\n",
    "    \n",
    "    acc = accuracy_score(y_val, knn_val.predict(X_val, k=k))\n",
    "    acc_list.append(acc)\n",
    "    \n",
    "id_k = np.argmax(acc_list)\n",
    "print('the best k is ',k_tries[id_k], ', with accuracy = {0:.2f}%'.format(acc_list[id_k]*100))"
   ]
  },
  {
   "cell_type": "code",
   "execution_count": null,
   "metadata": {},
   "outputs": [],
   "source": [
    "plt.plot(acc_list)\n",
    "plt.ylabel('accuracy')\n",
    "plt.xlabel('k_tries')\n",
    "plt.xticks(np.arange(len(k_tries)), k_tries)\n",
    "plt.show()"
   ]
  },
  {
   "cell_type": "markdown",
   "metadata": {
    "colab_type": "text",
    "id": "quMA17JKDnpI"
   },
   "source": [
    "---\n",
    "\n",
    "# Congratulation, You've Completed Nearest Neighbor Exercise\n",
    "\n",
    "<p>All best regard to the one who've had assignment me to complete this hands-on lab series which is Mas Andit - Telkom University Lecturer</p>"
   ]
  },
  {
   "cell_type": "code",
   "execution_count": null,
   "metadata": {},
   "outputs": [],
   "source": []
  }
 ],
 "metadata": {
  "colab": {
   "collapsed_sections": [],
   "name": "CV2020 - 00 - Nearest Neighbor.ipynb",
   "provenance": [],
   "toc_visible": true
  },
  "kernelspec": {
   "display_name": "Python 3",
   "language": "python",
   "name": "python3"
  },
  "language_info": {
   "codemirror_mode": {
    "name": "ipython",
    "version": 3
   },
   "file_extension": ".py",
   "mimetype": "text/x-python",
   "name": "python",
   "nbconvert_exporter": "python",
   "pygments_lexer": "ipython3",
   "version": "3.8.5"
  },
  "toc": {
   "base_numbering": 1,
   "nav_menu": {},
   "number_sections": false,
   "sideBar": true,
   "skip_h1_title": false,
   "title_cell": "Table of Contents",
   "title_sidebar": "Contents",
   "toc_cell": false,
   "toc_position": {
    "height": "764px",
    "left": "573px",
    "top": "224.133px",
    "width": "296px"
   },
   "toc_section_display": false,
   "toc_window_display": true
  }
 },
 "nbformat": 4,
 "nbformat_minor": 1
}
